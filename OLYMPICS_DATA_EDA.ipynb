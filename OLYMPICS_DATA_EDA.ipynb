{
 "cells": [
  {
   "cell_type": "code",
   "execution_count": 23,
   "id": "46d5b08f",
   "metadata": {},
   "outputs": [],
   "source": [
    "import numpy as np\n",
    "import pandas as pd\n",
    "import matplotlib.pyplot as plt"
   ]
  },
  {
   "cell_type": "markdown",
   "id": "08719efe",
   "metadata": {},
   "source": [
    "Problem statement\n",
    "Given File 'olympics.csv'\n",
    "\n",
    "In this case study, you are going to explore the Olympic dataset. But before you get insights from the dataset let's understand the dataset. To understand the dataset first read the dataset and print the dataset.\n",
    "\n",
    "Do the following as first steps to start EDA on this dataset:\n",
    "\n",
    "1. Import NumPy library\n",
    "\n",
    "2. Import Pandas library\n",
    "\n",
    "3. Import pyplot module from matplotlib library\n",
    "\n",
    "4. Read the dataset using pandas\n",
    "\n",
    "Output Format\n",
    "\n",
    "Print the shape of the dataset."
   ]
  },
  {
   "cell_type": "code",
   "execution_count": 71,
   "id": "232813f3",
   "metadata": {},
   "outputs": [
    {
     "name": "stdout",
     "output_type": "stream",
     "text": [
      "(271116, 15)\n"
     ]
    },
    {
     "data": {
      "text/html": [
       "<div>\n",
       "<style scoped>\n",
       "    .dataframe tbody tr th:only-of-type {\n",
       "        vertical-align: middle;\n",
       "    }\n",
       "\n",
       "    .dataframe tbody tr th {\n",
       "        vertical-align: top;\n",
       "    }\n",
       "\n",
       "    .dataframe thead th {\n",
       "        text-align: right;\n",
       "    }\n",
       "</style>\n",
       "<table border=\"1\" class=\"dataframe\">\n",
       "  <thead>\n",
       "    <tr style=\"text-align: right;\">\n",
       "      <th></th>\n",
       "      <th>ID</th>\n",
       "      <th>Name</th>\n",
       "      <th>Sex</th>\n",
       "      <th>Age</th>\n",
       "      <th>Height</th>\n",
       "      <th>Weight</th>\n",
       "      <th>Team</th>\n",
       "      <th>NOC</th>\n",
       "      <th>Games</th>\n",
       "      <th>Year</th>\n",
       "      <th>Season</th>\n",
       "      <th>City</th>\n",
       "      <th>Sport</th>\n",
       "      <th>Event</th>\n",
       "      <th>Medal</th>\n",
       "    </tr>\n",
       "  </thead>\n",
       "  <tbody>\n",
       "    <tr>\n",
       "      <th>0</th>\n",
       "      <td>1</td>\n",
       "      <td>A Dijiang</td>\n",
       "      <td>M</td>\n",
       "      <td>24.0</td>\n",
       "      <td>180.0</td>\n",
       "      <td>80.0</td>\n",
       "      <td>China</td>\n",
       "      <td>CHN</td>\n",
       "      <td>1992 Summer</td>\n",
       "      <td>1992</td>\n",
       "      <td>Summer</td>\n",
       "      <td>Barcelona</td>\n",
       "      <td>Basketball</td>\n",
       "      <td>Basketball Men's Basketball</td>\n",
       "      <td>NaN</td>\n",
       "    </tr>\n",
       "    <tr>\n",
       "      <th>1</th>\n",
       "      <td>2</td>\n",
       "      <td>A Lamusi</td>\n",
       "      <td>M</td>\n",
       "      <td>23.0</td>\n",
       "      <td>170.0</td>\n",
       "      <td>60.0</td>\n",
       "      <td>China</td>\n",
       "      <td>CHN</td>\n",
       "      <td>2012 Summer</td>\n",
       "      <td>2012</td>\n",
       "      <td>Summer</td>\n",
       "      <td>London</td>\n",
       "      <td>Judo</td>\n",
       "      <td>Judo Men's Extra-Lightweight</td>\n",
       "      <td>NaN</td>\n",
       "    </tr>\n",
       "    <tr>\n",
       "      <th>2</th>\n",
       "      <td>3</td>\n",
       "      <td>Gunnar Nielsen Aaby</td>\n",
       "      <td>M</td>\n",
       "      <td>24.0</td>\n",
       "      <td>NaN</td>\n",
       "      <td>NaN</td>\n",
       "      <td>Denmark</td>\n",
       "      <td>DEN</td>\n",
       "      <td>1920 Summer</td>\n",
       "      <td>1920</td>\n",
       "      <td>Summer</td>\n",
       "      <td>Antwerpen</td>\n",
       "      <td>Football</td>\n",
       "      <td>Football Men's Football</td>\n",
       "      <td>NaN</td>\n",
       "    </tr>\n",
       "    <tr>\n",
       "      <th>3</th>\n",
       "      <td>4</td>\n",
       "      <td>Edgar Lindenau Aabye</td>\n",
       "      <td>M</td>\n",
       "      <td>34.0</td>\n",
       "      <td>NaN</td>\n",
       "      <td>NaN</td>\n",
       "      <td>Denmark/Sweden</td>\n",
       "      <td>DEN</td>\n",
       "      <td>1900 Summer</td>\n",
       "      <td>1900</td>\n",
       "      <td>Summer</td>\n",
       "      <td>Paris</td>\n",
       "      <td>Tug-Of-War</td>\n",
       "      <td>Tug-Of-War Men's Tug-Of-War</td>\n",
       "      <td>Gold</td>\n",
       "    </tr>\n",
       "    <tr>\n",
       "      <th>4</th>\n",
       "      <td>5</td>\n",
       "      <td>Christine Jacoba Aaftink</td>\n",
       "      <td>F</td>\n",
       "      <td>21.0</td>\n",
       "      <td>185.0</td>\n",
       "      <td>82.0</td>\n",
       "      <td>Netherlands</td>\n",
       "      <td>NED</td>\n",
       "      <td>1988 Winter</td>\n",
       "      <td>1988</td>\n",
       "      <td>Winter</td>\n",
       "      <td>Calgary</td>\n",
       "      <td>Speed Skating</td>\n",
       "      <td>Speed Skating Women's 500 metres</td>\n",
       "      <td>NaN</td>\n",
       "    </tr>\n",
       "    <tr>\n",
       "      <th>...</th>\n",
       "      <td>...</td>\n",
       "      <td>...</td>\n",
       "      <td>...</td>\n",
       "      <td>...</td>\n",
       "      <td>...</td>\n",
       "      <td>...</td>\n",
       "      <td>...</td>\n",
       "      <td>...</td>\n",
       "      <td>...</td>\n",
       "      <td>...</td>\n",
       "      <td>...</td>\n",
       "      <td>...</td>\n",
       "      <td>...</td>\n",
       "      <td>...</td>\n",
       "      <td>...</td>\n",
       "    </tr>\n",
       "    <tr>\n",
       "      <th>271111</th>\n",
       "      <td>135569</td>\n",
       "      <td>Andrzej ya</td>\n",
       "      <td>M</td>\n",
       "      <td>29.0</td>\n",
       "      <td>179.0</td>\n",
       "      <td>89.0</td>\n",
       "      <td>Poland-1</td>\n",
       "      <td>POL</td>\n",
       "      <td>1976 Winter</td>\n",
       "      <td>1976</td>\n",
       "      <td>Winter</td>\n",
       "      <td>Innsbruck</td>\n",
       "      <td>Luge</td>\n",
       "      <td>Luge Mixed (Men)'s Doubles</td>\n",
       "      <td>NaN</td>\n",
       "    </tr>\n",
       "    <tr>\n",
       "      <th>271112</th>\n",
       "      <td>135570</td>\n",
       "      <td>Piotr ya</td>\n",
       "      <td>M</td>\n",
       "      <td>27.0</td>\n",
       "      <td>176.0</td>\n",
       "      <td>59.0</td>\n",
       "      <td>Poland</td>\n",
       "      <td>POL</td>\n",
       "      <td>2014 Winter</td>\n",
       "      <td>2014</td>\n",
       "      <td>Winter</td>\n",
       "      <td>Sochi</td>\n",
       "      <td>Ski Jumping</td>\n",
       "      <td>Ski Jumping Men's Large Hill, Individual</td>\n",
       "      <td>NaN</td>\n",
       "    </tr>\n",
       "    <tr>\n",
       "      <th>271113</th>\n",
       "      <td>135570</td>\n",
       "      <td>Piotr ya</td>\n",
       "      <td>M</td>\n",
       "      <td>27.0</td>\n",
       "      <td>176.0</td>\n",
       "      <td>59.0</td>\n",
       "      <td>Poland</td>\n",
       "      <td>POL</td>\n",
       "      <td>2014 Winter</td>\n",
       "      <td>2014</td>\n",
       "      <td>Winter</td>\n",
       "      <td>Sochi</td>\n",
       "      <td>Ski Jumping</td>\n",
       "      <td>Ski Jumping Men's Large Hill, Team</td>\n",
       "      <td>NaN</td>\n",
       "    </tr>\n",
       "    <tr>\n",
       "      <th>271114</th>\n",
       "      <td>135571</td>\n",
       "      <td>Tomasz Ireneusz ya</td>\n",
       "      <td>M</td>\n",
       "      <td>30.0</td>\n",
       "      <td>185.0</td>\n",
       "      <td>96.0</td>\n",
       "      <td>Poland</td>\n",
       "      <td>POL</td>\n",
       "      <td>1998 Winter</td>\n",
       "      <td>1998</td>\n",
       "      <td>Winter</td>\n",
       "      <td>Nagano</td>\n",
       "      <td>Bobsleigh</td>\n",
       "      <td>Bobsleigh Men's Four</td>\n",
       "      <td>NaN</td>\n",
       "    </tr>\n",
       "    <tr>\n",
       "      <th>271115</th>\n",
       "      <td>135571</td>\n",
       "      <td>Tomasz Ireneusz ya</td>\n",
       "      <td>M</td>\n",
       "      <td>34.0</td>\n",
       "      <td>185.0</td>\n",
       "      <td>96.0</td>\n",
       "      <td>Poland</td>\n",
       "      <td>POL</td>\n",
       "      <td>2002 Winter</td>\n",
       "      <td>2002</td>\n",
       "      <td>Winter</td>\n",
       "      <td>Salt Lake City</td>\n",
       "      <td>Bobsleigh</td>\n",
       "      <td>Bobsleigh Men's Four</td>\n",
       "      <td>NaN</td>\n",
       "    </tr>\n",
       "  </tbody>\n",
       "</table>\n",
       "<p>271116 rows × 15 columns</p>\n",
       "</div>"
      ],
      "text/plain": [
       "            ID                      Name Sex   Age  Height  Weight  \\\n",
       "0            1                 A Dijiang   M  24.0   180.0    80.0   \n",
       "1            2                  A Lamusi   M  23.0   170.0    60.0   \n",
       "2            3       Gunnar Nielsen Aaby   M  24.0     NaN     NaN   \n",
       "3            4      Edgar Lindenau Aabye   M  34.0     NaN     NaN   \n",
       "4            5  Christine Jacoba Aaftink   F  21.0   185.0    82.0   \n",
       "...        ...                       ...  ..   ...     ...     ...   \n",
       "271111  135569                Andrzej ya   M  29.0   179.0    89.0   \n",
       "271112  135570                  Piotr ya   M  27.0   176.0    59.0   \n",
       "271113  135570                  Piotr ya   M  27.0   176.0    59.0   \n",
       "271114  135571        Tomasz Ireneusz ya   M  30.0   185.0    96.0   \n",
       "271115  135571        Tomasz Ireneusz ya   M  34.0   185.0    96.0   \n",
       "\n",
       "                  Team  NOC        Games  Year  Season            City  \\\n",
       "0                China  CHN  1992 Summer  1992  Summer       Barcelona   \n",
       "1                China  CHN  2012 Summer  2012  Summer          London   \n",
       "2              Denmark  DEN  1920 Summer  1920  Summer       Antwerpen   \n",
       "3       Denmark/Sweden  DEN  1900 Summer  1900  Summer           Paris   \n",
       "4          Netherlands  NED  1988 Winter  1988  Winter         Calgary   \n",
       "...                ...  ...          ...   ...     ...             ...   \n",
       "271111        Poland-1  POL  1976 Winter  1976  Winter       Innsbruck   \n",
       "271112          Poland  POL  2014 Winter  2014  Winter           Sochi   \n",
       "271113          Poland  POL  2014 Winter  2014  Winter           Sochi   \n",
       "271114          Poland  POL  1998 Winter  1998  Winter          Nagano   \n",
       "271115          Poland  POL  2002 Winter  2002  Winter  Salt Lake City   \n",
       "\n",
       "                Sport                                     Event Medal  \n",
       "0          Basketball               Basketball Men's Basketball   NaN  \n",
       "1                Judo              Judo Men's Extra-Lightweight   NaN  \n",
       "2            Football                   Football Men's Football   NaN  \n",
       "3          Tug-Of-War               Tug-Of-War Men's Tug-Of-War  Gold  \n",
       "4       Speed Skating          Speed Skating Women's 500 metres   NaN  \n",
       "...               ...                                       ...   ...  \n",
       "271111           Luge                Luge Mixed (Men)'s Doubles   NaN  \n",
       "271112    Ski Jumping  Ski Jumping Men's Large Hill, Individual   NaN  \n",
       "271113    Ski Jumping        Ski Jumping Men's Large Hill, Team   NaN  \n",
       "271114      Bobsleigh                      Bobsleigh Men's Four   NaN  \n",
       "271115      Bobsleigh                      Bobsleigh Men's Four   NaN  \n",
       "\n",
       "[271116 rows x 15 columns]"
      ]
     },
     "execution_count": 71,
     "metadata": {},
     "output_type": "execute_result"
    }
   ],
   "source": [
    "data = pd.read_csv(r'C:\\Users\\Hp Pc\\Downloads\\olympics.csv')\n",
    "region= pd.read_csv(r'C:\\Users\\Hp Pc\\Downloads\\noc_regions.csv')\n",
    "print(data.shape)\n",
    "data"
   ]
  },
  {
   "cell_type": "markdown",
   "id": "d95e7f38",
   "metadata": {},
   "source": [
    "Problem statement\n",
    "Given File 'olympics.csv'\n",
    "\n",
    "Describe the Age column of the dataset on various parameters using describe API.\n",
    "\n",
    "Output Format:\n",
    "\n",
    "count    261642.000000\n",
    "mean         25.556898\n",
    "std           6.393561\n",
    "..."
   ]
  },
  {
   "cell_type": "code",
   "execution_count": 25,
   "id": "26ed21a0",
   "metadata": {},
   "outputs": [
    {
     "name": "stdout",
     "output_type": "stream",
     "text": [
      "count    261642.000000\n",
      "mean         25.556898\n",
      "std           6.393561\n",
      "min          10.000000\n",
      "25%          21.000000\n",
      "50%          24.000000\n",
      "75%          28.000000\n",
      "max          97.000000\n",
      "Name: Age, dtype: float64\n"
     ]
    }
   ],
   "source": [
    "age_desc= data['Age'].describe()\n",
    "print(age_desc)\n"
   ]
  },
  {
   "cell_type": "markdown",
   "id": "07157459",
   "metadata": {},
   "source": [
    "Problem statement\n",
    "Given File 'olympics.csv'\n",
    "\n",
    "Print the list of columns that have numeric datatypes.\n",
    "\n",
    "Numeric datatypes include ['int16', 'int32', 'int64', 'float16', 'float32', 'float64'].\n",
    "\n",
    "Try to solve this problem with pandas and numpy.\n",
    "\n",
    "Output Format:\n",
    "\n",
    "List of columns having numeric datatypes"
   ]
  },
  {
   "cell_type": "code",
   "execution_count": 26,
   "id": "577c9191",
   "metadata": {},
   "outputs": [
    {
     "name": "stdout",
     "output_type": "stream",
     "text": [
      "['ID', 'Age', 'Height', 'Weight', 'Year']\n"
     ]
    }
   ],
   "source": [
    "print(data.select_dtypes(include=np.number).columns.tolist())"
   ]
  },
  {
   "cell_type": "markdown",
   "id": "feaa5003",
   "metadata": {},
   "source": [
    "Problem statement\n",
    "Given File 'olympics.csv'\n",
    "\n",
    "Print the columns that contain null values along with the count of null values present in each column.\n",
    "\n",
    "Output Format:\n",
    "\n",
    "Column_name - Number of null values."
   ]
  },
  {
   "cell_type": "code",
   "execution_count": 27,
   "id": "7c33f2b2",
   "metadata": {},
   "outputs": [
    {
     "data": {
      "text/plain": [
       "ID             0\n",
       "Name           0\n",
       "Sex            0\n",
       "Age         9474\n",
       "Height     60171\n",
       "Weight     62875\n",
       "Team           0\n",
       "NOC            0\n",
       "Games          0\n",
       "Year           0\n",
       "Season         0\n",
       "City           0\n",
       "Sport          0\n",
       "Event          0\n",
       "Medal     231333\n",
       "dtype: int64"
      ]
     },
     "execution_count": 27,
     "metadata": {},
     "output_type": "execute_result"
    }
   ],
   "source": [
    "null_count= data.isna().sum()\n",
    "null_count"
   ]
  },
  {
   "cell_type": "code",
   "execution_count": 28,
   "id": "099a29e7",
   "metadata": {},
   "outputs": [
    {
     "name": "stdout",
     "output_type": "stream",
     "text": [
      "Age - 9474\n",
      "Height - 60171\n",
      "Weight - 62875\n",
      "Medal - 231333\n"
     ]
    }
   ],
   "source": [
    "for x in data.columns:\n",
    "    if data[x].isnull().values.ravel().sum() > 0:\n",
    "        print('{} - {}'.format(x,data[x].isnull().values.ravel().sum()))"
   ]
  },
  {
   "cell_type": "markdown",
   "id": "057dcc7f",
   "metadata": {},
   "source": [
    "Problem statement\n",
    "Given File 'olympics.csv'\n",
    "\n",
    "In the previous column you analyzed the columns that contain any missing values.\n",
    "\n",
    "You found out that Age, Height, Weight, Medal, region and notes columns contain null values.\n",
    "\n",
    "Now you need to handle these missing values.\n",
    "\n",
    "For the columns \"Height, Weight and notes\", you are going to drop these columns as they are not required in our further analysis.\n",
    "\n",
    "For the \"region\" column, remove all the rows where the region column is having null values.\n",
    "\n",
    "For output print the shape of the dataset after performing these operations.\n",
    "\n",
    "Note: You are going to handle the Medal and Age column in the next questions.\n",
    "\n",
    "Output Format:\n",
    "\n",
    "print the shape of the dataset after performing the missing value handling operations."
   ]
  },
  {
   "cell_type": "code",
   "execution_count": 30,
   "id": "84935d6b",
   "metadata": {},
   "outputs": [
    {
     "name": "stdout",
     "output_type": "stream",
     "text": [
      "(271116, 13)\n"
     ]
    }
   ],
   "source": [
    "data.drop([\"Height\",\"Weight\"],axis = 1,inplace = True)\n",
    "region.drop(\"notes\",axis = 1,inplace = True)\n",
    "region.drop(region[\"region\"].isnull()[region[\"region\"].isnull()==True].index,axis = 0,inplace = True)\n",
    "print(data.shape)"
   ]
  },
  {
   "cell_type": "code",
   "execution_count": 32,
   "id": "885f6649",
   "metadata": {},
   "outputs": [
    {
     "data": {
      "text/html": [
       "<div>\n",
       "<style scoped>\n",
       "    .dataframe tbody tr th:only-of-type {\n",
       "        vertical-align: middle;\n",
       "    }\n",
       "\n",
       "    .dataframe tbody tr th {\n",
       "        vertical-align: top;\n",
       "    }\n",
       "\n",
       "    .dataframe thead th {\n",
       "        text-align: right;\n",
       "    }\n",
       "</style>\n",
       "<table border=\"1\" class=\"dataframe\">\n",
       "  <thead>\n",
       "    <tr style=\"text-align: right;\">\n",
       "      <th></th>\n",
       "      <th>ID</th>\n",
       "      <th>Name</th>\n",
       "      <th>Sex</th>\n",
       "      <th>Age</th>\n",
       "      <th>Team</th>\n",
       "      <th>NOC</th>\n",
       "      <th>Games</th>\n",
       "      <th>Year</th>\n",
       "      <th>Season</th>\n",
       "      <th>City</th>\n",
       "      <th>Sport</th>\n",
       "      <th>Event</th>\n",
       "      <th>Medal</th>\n",
       "    </tr>\n",
       "  </thead>\n",
       "  <tbody>\n",
       "    <tr>\n",
       "      <th>0</th>\n",
       "      <td>1</td>\n",
       "      <td>A Dijiang</td>\n",
       "      <td>M</td>\n",
       "      <td>24.0</td>\n",
       "      <td>China</td>\n",
       "      <td>CHN</td>\n",
       "      <td>1992 Summer</td>\n",
       "      <td>1992</td>\n",
       "      <td>Summer</td>\n",
       "      <td>Barcelona</td>\n",
       "      <td>Basketball</td>\n",
       "      <td>Basketball Men's Basketball</td>\n",
       "      <td>NaN</td>\n",
       "    </tr>\n",
       "    <tr>\n",
       "      <th>1</th>\n",
       "      <td>2</td>\n",
       "      <td>A Lamusi</td>\n",
       "      <td>M</td>\n",
       "      <td>23.0</td>\n",
       "      <td>China</td>\n",
       "      <td>CHN</td>\n",
       "      <td>2012 Summer</td>\n",
       "      <td>2012</td>\n",
       "      <td>Summer</td>\n",
       "      <td>London</td>\n",
       "      <td>Judo</td>\n",
       "      <td>Judo Men's Extra-Lightweight</td>\n",
       "      <td>NaN</td>\n",
       "    </tr>\n",
       "    <tr>\n",
       "      <th>2</th>\n",
       "      <td>3</td>\n",
       "      <td>Gunnar Nielsen Aaby</td>\n",
       "      <td>M</td>\n",
       "      <td>24.0</td>\n",
       "      <td>Denmark</td>\n",
       "      <td>DEN</td>\n",
       "      <td>1920 Summer</td>\n",
       "      <td>1920</td>\n",
       "      <td>Summer</td>\n",
       "      <td>Antwerpen</td>\n",
       "      <td>Football</td>\n",
       "      <td>Football Men's Football</td>\n",
       "      <td>NaN</td>\n",
       "    </tr>\n",
       "    <tr>\n",
       "      <th>3</th>\n",
       "      <td>4</td>\n",
       "      <td>Edgar Lindenau Aabye</td>\n",
       "      <td>M</td>\n",
       "      <td>34.0</td>\n",
       "      <td>Denmark/Sweden</td>\n",
       "      <td>DEN</td>\n",
       "      <td>1900 Summer</td>\n",
       "      <td>1900</td>\n",
       "      <td>Summer</td>\n",
       "      <td>Paris</td>\n",
       "      <td>Tug-Of-War</td>\n",
       "      <td>Tug-Of-War Men's Tug-Of-War</td>\n",
       "      <td>Gold</td>\n",
       "    </tr>\n",
       "    <tr>\n",
       "      <th>4</th>\n",
       "      <td>5</td>\n",
       "      <td>Christine Jacoba Aaftink</td>\n",
       "      <td>F</td>\n",
       "      <td>21.0</td>\n",
       "      <td>Netherlands</td>\n",
       "      <td>NED</td>\n",
       "      <td>1988 Winter</td>\n",
       "      <td>1988</td>\n",
       "      <td>Winter</td>\n",
       "      <td>Calgary</td>\n",
       "      <td>Speed Skating</td>\n",
       "      <td>Speed Skating Women's 500 metres</td>\n",
       "      <td>NaN</td>\n",
       "    </tr>\n",
       "    <tr>\n",
       "      <th>...</th>\n",
       "      <td>...</td>\n",
       "      <td>...</td>\n",
       "      <td>...</td>\n",
       "      <td>...</td>\n",
       "      <td>...</td>\n",
       "      <td>...</td>\n",
       "      <td>...</td>\n",
       "      <td>...</td>\n",
       "      <td>...</td>\n",
       "      <td>...</td>\n",
       "      <td>...</td>\n",
       "      <td>...</td>\n",
       "      <td>...</td>\n",
       "    </tr>\n",
       "    <tr>\n",
       "      <th>271111</th>\n",
       "      <td>135569</td>\n",
       "      <td>Andrzej ya</td>\n",
       "      <td>M</td>\n",
       "      <td>29.0</td>\n",
       "      <td>Poland-1</td>\n",
       "      <td>POL</td>\n",
       "      <td>1976 Winter</td>\n",
       "      <td>1976</td>\n",
       "      <td>Winter</td>\n",
       "      <td>Innsbruck</td>\n",
       "      <td>Luge</td>\n",
       "      <td>Luge Mixed (Men)'s Doubles</td>\n",
       "      <td>NaN</td>\n",
       "    </tr>\n",
       "    <tr>\n",
       "      <th>271112</th>\n",
       "      <td>135570</td>\n",
       "      <td>Piotr ya</td>\n",
       "      <td>M</td>\n",
       "      <td>27.0</td>\n",
       "      <td>Poland</td>\n",
       "      <td>POL</td>\n",
       "      <td>2014 Winter</td>\n",
       "      <td>2014</td>\n",
       "      <td>Winter</td>\n",
       "      <td>Sochi</td>\n",
       "      <td>Ski Jumping</td>\n",
       "      <td>Ski Jumping Men's Large Hill, Individual</td>\n",
       "      <td>NaN</td>\n",
       "    </tr>\n",
       "    <tr>\n",
       "      <th>271113</th>\n",
       "      <td>135570</td>\n",
       "      <td>Piotr ya</td>\n",
       "      <td>M</td>\n",
       "      <td>27.0</td>\n",
       "      <td>Poland</td>\n",
       "      <td>POL</td>\n",
       "      <td>2014 Winter</td>\n",
       "      <td>2014</td>\n",
       "      <td>Winter</td>\n",
       "      <td>Sochi</td>\n",
       "      <td>Ski Jumping</td>\n",
       "      <td>Ski Jumping Men's Large Hill, Team</td>\n",
       "      <td>NaN</td>\n",
       "    </tr>\n",
       "    <tr>\n",
       "      <th>271114</th>\n",
       "      <td>135571</td>\n",
       "      <td>Tomasz Ireneusz ya</td>\n",
       "      <td>M</td>\n",
       "      <td>30.0</td>\n",
       "      <td>Poland</td>\n",
       "      <td>POL</td>\n",
       "      <td>1998 Winter</td>\n",
       "      <td>1998</td>\n",
       "      <td>Winter</td>\n",
       "      <td>Nagano</td>\n",
       "      <td>Bobsleigh</td>\n",
       "      <td>Bobsleigh Men's Four</td>\n",
       "      <td>NaN</td>\n",
       "    </tr>\n",
       "    <tr>\n",
       "      <th>271115</th>\n",
       "      <td>135571</td>\n",
       "      <td>Tomasz Ireneusz ya</td>\n",
       "      <td>M</td>\n",
       "      <td>34.0</td>\n",
       "      <td>Poland</td>\n",
       "      <td>POL</td>\n",
       "      <td>2002 Winter</td>\n",
       "      <td>2002</td>\n",
       "      <td>Winter</td>\n",
       "      <td>Salt Lake City</td>\n",
       "      <td>Bobsleigh</td>\n",
       "      <td>Bobsleigh Men's Four</td>\n",
       "      <td>NaN</td>\n",
       "    </tr>\n",
       "  </tbody>\n",
       "</table>\n",
       "<p>271116 rows × 13 columns</p>\n",
       "</div>"
      ],
      "text/plain": [
       "            ID                      Name Sex   Age            Team  NOC  \\\n",
       "0            1                 A Dijiang   M  24.0           China  CHN   \n",
       "1            2                  A Lamusi   M  23.0           China  CHN   \n",
       "2            3       Gunnar Nielsen Aaby   M  24.0         Denmark  DEN   \n",
       "3            4      Edgar Lindenau Aabye   M  34.0  Denmark/Sweden  DEN   \n",
       "4            5  Christine Jacoba Aaftink   F  21.0     Netherlands  NED   \n",
       "...        ...                       ...  ..   ...             ...  ...   \n",
       "271111  135569                Andrzej ya   M  29.0        Poland-1  POL   \n",
       "271112  135570                  Piotr ya   M  27.0          Poland  POL   \n",
       "271113  135570                  Piotr ya   M  27.0          Poland  POL   \n",
       "271114  135571        Tomasz Ireneusz ya   M  30.0          Poland  POL   \n",
       "271115  135571        Tomasz Ireneusz ya   M  34.0          Poland  POL   \n",
       "\n",
       "              Games  Year  Season            City          Sport  \\\n",
       "0       1992 Summer  1992  Summer       Barcelona     Basketball   \n",
       "1       2012 Summer  2012  Summer          London           Judo   \n",
       "2       1920 Summer  1920  Summer       Antwerpen       Football   \n",
       "3       1900 Summer  1900  Summer           Paris     Tug-Of-War   \n",
       "4       1988 Winter  1988  Winter         Calgary  Speed Skating   \n",
       "...             ...   ...     ...             ...            ...   \n",
       "271111  1976 Winter  1976  Winter       Innsbruck           Luge   \n",
       "271112  2014 Winter  2014  Winter           Sochi    Ski Jumping   \n",
       "271113  2014 Winter  2014  Winter           Sochi    Ski Jumping   \n",
       "271114  1998 Winter  1998  Winter          Nagano      Bobsleigh   \n",
       "271115  2002 Winter  2002  Winter  Salt Lake City      Bobsleigh   \n",
       "\n",
       "                                           Event Medal  \n",
       "0                    Basketball Men's Basketball   NaN  \n",
       "1                   Judo Men's Extra-Lightweight   NaN  \n",
       "2                        Football Men's Football   NaN  \n",
       "3                    Tug-Of-War Men's Tug-Of-War  Gold  \n",
       "4               Speed Skating Women's 500 metres   NaN  \n",
       "...                                          ...   ...  \n",
       "271111                Luge Mixed (Men)'s Doubles   NaN  \n",
       "271112  Ski Jumping Men's Large Hill, Individual   NaN  \n",
       "271113        Ski Jumping Men's Large Hill, Team   NaN  \n",
       "271114                      Bobsleigh Men's Four   NaN  \n",
       "271115                      Bobsleigh Men's Four   NaN  \n",
       "\n",
       "[271116 rows x 13 columns]"
      ]
     },
     "execution_count": 32,
     "metadata": {},
     "output_type": "execute_result"
    }
   ],
   "source": [
    "data"
   ]
  },
  {
   "cell_type": "code",
   "execution_count": 33,
   "id": "e30f5de7",
   "metadata": {},
   "outputs": [
    {
     "data": {
      "text/html": [
       "<div>\n",
       "<style scoped>\n",
       "    .dataframe tbody tr th:only-of-type {\n",
       "        vertical-align: middle;\n",
       "    }\n",
       "\n",
       "    .dataframe tbody tr th {\n",
       "        vertical-align: top;\n",
       "    }\n",
       "\n",
       "    .dataframe thead th {\n",
       "        text-align: right;\n",
       "    }\n",
       "</style>\n",
       "<table border=\"1\" class=\"dataframe\">\n",
       "  <thead>\n",
       "    <tr style=\"text-align: right;\">\n",
       "      <th></th>\n",
       "      <th>NOC</th>\n",
       "      <th>region</th>\n",
       "    </tr>\n",
       "  </thead>\n",
       "  <tbody>\n",
       "    <tr>\n",
       "      <th>0</th>\n",
       "      <td>AFG</td>\n",
       "      <td>Afghanistan</td>\n",
       "    </tr>\n",
       "    <tr>\n",
       "      <th>1</th>\n",
       "      <td>AHO</td>\n",
       "      <td>Curacao</td>\n",
       "    </tr>\n",
       "    <tr>\n",
       "      <th>2</th>\n",
       "      <td>ALB</td>\n",
       "      <td>Albania</td>\n",
       "    </tr>\n",
       "    <tr>\n",
       "      <th>3</th>\n",
       "      <td>ALG</td>\n",
       "      <td>Algeria</td>\n",
       "    </tr>\n",
       "    <tr>\n",
       "      <th>4</th>\n",
       "      <td>AND</td>\n",
       "      <td>Andorra</td>\n",
       "    </tr>\n",
       "    <tr>\n",
       "      <th>...</th>\n",
       "      <td>...</td>\n",
       "      <td>...</td>\n",
       "    </tr>\n",
       "    <tr>\n",
       "      <th>225</th>\n",
       "      <td>YEM</td>\n",
       "      <td>Yemen</td>\n",
       "    </tr>\n",
       "    <tr>\n",
       "      <th>226</th>\n",
       "      <td>YMD</td>\n",
       "      <td>Yemen</td>\n",
       "    </tr>\n",
       "    <tr>\n",
       "      <th>227</th>\n",
       "      <td>YUG</td>\n",
       "      <td>Serbia</td>\n",
       "    </tr>\n",
       "    <tr>\n",
       "      <th>228</th>\n",
       "      <td>ZAM</td>\n",
       "      <td>Zambia</td>\n",
       "    </tr>\n",
       "    <tr>\n",
       "      <th>229</th>\n",
       "      <td>ZIM</td>\n",
       "      <td>Zimbabwe</td>\n",
       "    </tr>\n",
       "  </tbody>\n",
       "</table>\n",
       "<p>227 rows × 2 columns</p>\n",
       "</div>"
      ],
      "text/plain": [
       "     NOC       region\n",
       "0    AFG  Afghanistan\n",
       "1    AHO      Curacao\n",
       "2    ALB      Albania\n",
       "3    ALG      Algeria\n",
       "4    AND      Andorra\n",
       "..   ...          ...\n",
       "225  YEM        Yemen\n",
       "226  YMD        Yemen\n",
       "227  YUG       Serbia\n",
       "228  ZAM       Zambia\n",
       "229  ZIM     Zimbabwe\n",
       "\n",
       "[227 rows x 2 columns]"
      ]
     },
     "execution_count": 33,
     "metadata": {},
     "output_type": "execute_result"
    }
   ],
   "source": [
    "region"
   ]
  },
  {
   "cell_type": "markdown",
   "id": "3cbb3a70",
   "metadata": {},
   "source": [
    "Problem statement\n",
    "Given File 'olympics.csv'\n",
    "\n",
    "In previous question you handled the missing values for the columns [\"Height\", \"Weight\", \"notes\", \"region\"].\n",
    "\n",
    "Still there are missing values present in the \"Medal\" column. Now you don't need to drop the values present in this column because Medals have a NaN in about 2,31,333 rows. These can be explained since not all participating athletes would win medals.\n",
    "\n",
    "Let's replace these missing values with 'DNW'. DNW means Did not win.\n",
    "\n",
    "For the output print the unique number of values present in the Medal column.\n",
    "\n",
    "Output Format:\n",
    "\n",
    "DNW       230972\n",
    "Gold       13371\n",
    "Bronze     13291\n",
    "..."
   ]
  },
  {
   "cell_type": "code",
   "execution_count": 35,
   "id": "b2a98a88",
   "metadata": {},
   "outputs": [
    {
     "data": {
      "text/plain": [
       "231333"
      ]
     },
     "execution_count": 35,
     "metadata": {},
     "output_type": "execute_result"
    }
   ],
   "source": [
    "data['Medal'].isnull().sum()"
   ]
  },
  {
   "cell_type": "code",
   "execution_count": 41,
   "id": "124c9e53",
   "metadata": {},
   "outputs": [
    {
     "name": "stdout",
     "output_type": "stream",
     "text": [
      "0\n",
      "DNW       231333\n",
      "Gold       13372\n",
      "Bronze     13295\n",
      "Silver     13116\n",
      "Name: Medal, dtype: int64\n"
     ]
    }
   ],
   "source": [
    "data['Medal'].fillna('DNW', inplace=True)\n",
    "print(data['Medal'].isnull().sum())\n",
    "print(data['Medal'].value_counts())"
   ]
  },
  {
   "cell_type": "markdown",
   "id": "a9addf7e",
   "metadata": {},
   "source": [
    "# Statistical Analysis of Olympics Dataset\n",
    "Now we have a concrete understanding of the dataset. We now know what our dataset\n",
    "looks like. Now we will move toward the statistical analysis of this dataset. We will\n",
    "answer these questions:\n",
    "1. We have an Age column that contains some null values. Rather than deleting them, fill these missing values by mean after grouping them by games.\n",
    "2. What is the probability distribution “of the age” of all the players who participated in the swimming competition between the years 2000 - 2016.\n",
    "3. Is the overall distribution of Gold Medals tally in India, positive or negative skewed?\n",
    "4. What is the standard deviation/error of the distribution of gold medals when the UK is hosting the Olympic games and when not hosting the games? (When games are hosted in the UK, the city is London.)\n",
    "5. Standardise the age of all the participants participating in the Shooting Competition and calculate this standardised data's mean and standard deviation.\n",
    "6. Is age positively correlated or negatively correlated with winning the medal?\n",
    "7. From the dataset, Calculate the IQR for the Age column."
   ]
  },
  {
   "cell_type": "markdown",
   "id": "ddc711ef",
   "metadata": {},
   "source": [
    "Problem statement\n",
    "Given File 'olympics.csv'\n",
    "\n",
    "You have an Age column that contains some null values. Rather than deleting them, fill these missing values by (means of the age of the players belonging to that particular game).\n",
    "\n",
    "Example:\n",
    "\n",
    "Let's suppose there is a missing value of Age where the sport is Swimming, then replace that missing value of age with the mean age of all the players who belong to Swimming. Similarly for all other sports.\n",
    "\n",
    "After this print the mean of the Age column.\n",
    "\n",
    "Output Format:\n",
    "\n",
    "Mean of age column rounded by 0 decimal places."
   ]
  },
  {
   "cell_type": "code",
   "execution_count": 52,
   "id": "8a2c9169",
   "metadata": {},
   "outputs": [
    {
     "name": "stdout",
     "output_type": "stream",
     "text": [
      "26\n"
     ]
    }
   ],
   "source": [
    "mean_age= round(data.groupby(\"Sport\")['Age'].mean(),2)\n",
    "mean_age\n",
    "age_loc= data.loc[data[\"Age\"].isnull()].index\n",
    "for i in age_loc:\n",
    "    data.loc[i, \"Age\"]= mean_age[data.loc[i, \"Sport\"]]\n",
    "print(round(data[\"Age\"].mean()))\n",
    "\n"
   ]
  },
  {
   "cell_type": "markdown",
   "id": "449d9117",
   "metadata": {},
   "source": [
    "Problem statement\n",
    "Calculate the probability distribution of the Age column.\n",
    "\n",
    "Firstly plot the line chart to get the idea of the range of probability distribution and then print the maximum probability distribution in the range of 5.\n",
    "\n",
    "Output Format:\n",
    "\n",
    "Print the maximum distribution in the range of 5."
   ]
  },
  {
   "cell_type": "code",
   "execution_count": 54,
   "id": "3ec66081",
   "metadata": {},
   "outputs": [
    {
     "data": {
      "image/png": "[encoded data removed]",
      "text/plain": [
       "<Figure size 640x480 with 1 Axes>"
      ]
     },
     "metadata": {},
     "output_type": "display_data"
    },
    {
     "name": "stdout",
     "output_type": "stream",
     "text": [
      "20 to 25\n"
     ]
    }
   ],
   "source": [
    "from scipy.stats import norm\n",
    "swimming_age = data.loc[(data[\"Sport\"] == \"Swimming\") & (data[\"Year\"] >= 2000) &(data[\"Year\"] <= 2016)][\"Age\"]\n",
    "swimming_age = sorted(swimming_age)\n",
    "mean_swimming_age = np.mean(swimming_age)\n",
    "std_swimming_age = np.std(swimming_age)\n",
    "probability_pdf = norm.pdf(swimming_age, loc=mean_swimming_age, scale=std_swimming_age)\n",
    "plt.plot(swimming_age, probability_pdf)\n",
    "plt.show()\n",
    "print(\"20 to 25\")"
   ]
  },
  {
   "cell_type": "markdown",
   "id": "0fb2fe72",
   "metadata": {},
   "source": [
    "Problem statement\n",
    "Is the overall distribution of Gold Medals tally of India, left or negatively skewed?\n",
    "\n",
    "Output Format\n",
    "\n",
    "Print Skewness"
   ]
  },
  {
   "cell_type": "code",
   "execution_count": 58,
   "id": "5f08af19",
   "metadata": {},
   "outputs": [
    {
     "data": {
      "text/html": [
       "<div>\n",
       "<style scoped>\n",
       "    .dataframe tbody tr th:only-of-type {\n",
       "        vertical-align: middle;\n",
       "    }\n",
       "\n",
       "    .dataframe tbody tr th {\n",
       "        vertical-align: top;\n",
       "    }\n",
       "\n",
       "    .dataframe thead th {\n",
       "        text-align: right;\n",
       "    }\n",
       "</style>\n",
       "<table border=\"1\" class=\"dataframe\">\n",
       "  <thead>\n",
       "    <tr style=\"text-align: right;\">\n",
       "      <th></th>\n",
       "      <th>NOC</th>\n",
       "      <th>region</th>\n",
       "    </tr>\n",
       "  </thead>\n",
       "  <tbody>\n",
       "    <tr>\n",
       "      <th>0</th>\n",
       "      <td>AFG</td>\n",
       "      <td>Afghanistan</td>\n",
       "    </tr>\n",
       "    <tr>\n",
       "      <th>1</th>\n",
       "      <td>AHO</td>\n",
       "      <td>Curacao</td>\n",
       "    </tr>\n",
       "    <tr>\n",
       "      <th>2</th>\n",
       "      <td>ALB</td>\n",
       "      <td>Albania</td>\n",
       "    </tr>\n",
       "    <tr>\n",
       "      <th>3</th>\n",
       "      <td>ALG</td>\n",
       "      <td>Algeria</td>\n",
       "    </tr>\n",
       "    <tr>\n",
       "      <th>4</th>\n",
       "      <td>AND</td>\n",
       "      <td>Andorra</td>\n",
       "    </tr>\n",
       "    <tr>\n",
       "      <th>...</th>\n",
       "      <td>...</td>\n",
       "      <td>...</td>\n",
       "    </tr>\n",
       "    <tr>\n",
       "      <th>225</th>\n",
       "      <td>YEM</td>\n",
       "      <td>Yemen</td>\n",
       "    </tr>\n",
       "    <tr>\n",
       "      <th>226</th>\n",
       "      <td>YMD</td>\n",
       "      <td>Yemen</td>\n",
       "    </tr>\n",
       "    <tr>\n",
       "      <th>227</th>\n",
       "      <td>YUG</td>\n",
       "      <td>Serbia</td>\n",
       "    </tr>\n",
       "    <tr>\n",
       "      <th>228</th>\n",
       "      <td>ZAM</td>\n",
       "      <td>Zambia</td>\n",
       "    </tr>\n",
       "    <tr>\n",
       "      <th>229</th>\n",
       "      <td>ZIM</td>\n",
       "      <td>Zimbabwe</td>\n",
       "    </tr>\n",
       "  </tbody>\n",
       "</table>\n",
       "<p>227 rows × 2 columns</p>\n",
       "</div>"
      ],
      "text/plain": [
       "     NOC       region\n",
       "0    AFG  Afghanistan\n",
       "1    AHO      Curacao\n",
       "2    ALB      Albania\n",
       "3    ALG      Algeria\n",
       "4    AND      Andorra\n",
       "..   ...          ...\n",
       "225  YEM        Yemen\n",
       "226  YMD        Yemen\n",
       "227  YUG       Serbia\n",
       "228  ZAM       Zambia\n",
       "229  ZIM     Zimbabwe\n",
       "\n",
       "[227 rows x 2 columns]"
      ]
     },
     "execution_count": 58,
     "metadata": {},
     "output_type": "execute_result"
    }
   ],
   "source": [
    "region"
   ]
  },
  {
   "cell_type": "code",
   "execution_count": 64,
   "id": "90966889",
   "metadata": {},
   "outputs": [
    {
     "name": "stdout",
     "output_type": "stream",
     "text": [
      "Left Skewed\n"
     ]
    }
   ],
   "source": [
    "\n",
    "import scipy.stats as stats\n",
    "\n",
    "india_medals = data.loc[(data[\"Team\"] == \"India\") & (data[\"Medal\"] == \"Gold\")]\n",
    "gold_count = india_medals.groupby(\"Year\")[\"Medal\"].value_counts() \n",
    "if stats.skew(gold_count, bias=False) > 0:\n",
    "    print(\"Right Skewed\")\n",
    "else:\n",
    "    print(\"Left Skewed\")"
   ]
  },
  {
   "cell_type": "markdown",
   "id": "c81f1839",
   "metadata": {},
   "source": [
    "Problem statement\n",
    "What is the standard deviation/error of the distribution of gold medals when the UK is hosting the Olympic games and when not hosting the games? (When games are hosted in the UK, the city is London.)\n",
    "\n",
    "Output Format\n",
    "\n",
    "Standard Deviation when hosting\n",
    "Standard Deviation when not hosting"
   ]
  },
  {
   "cell_type": "code",
   "execution_count": 81,
   "id": "0f670cc1",
   "metadata": {},
   "outputs": [
    {
     "name": "stdout",
     "output_type": "stream",
     "text": [
      "196.60366222428308\n",
      "199.27821936207985\n"
     ]
    }
   ],
   "source": [
    "df = data.loc[(data.City == 'London') & (data.Medal== \"Gold\")]\n",
    "df = df.groupby('Year')['Medal'].value_counts()\n",
    "\n",
    "df1 = data.loc[(data.City!= 'London') &  (data.Medal== \"Gold\")]\n",
    "df1 = df1.groupby('Year')['Medal'].value_counts()\n",
    "\n",
    "import statistics\n",
    "\n",
    "print(statistics.stdev(df))\n",
    "print(statistics.stdev(df1))"
   ]
  },
  {
   "cell_type": "code",
   "execution_count": null,
   "id": "8293ec7d",
   "metadata": {},
   "outputs": [],
   "source": []
  },
  {
   "cell_type": "markdown",
   "id": "20d68b52",
   "metadata": {},
   "source": [
    "Problem statement\n",
    "Is Age positively correlated or negatively correlated with winning the medal?\n",
    "\n",
    "Print \"Positive\" if the correlation is positive and \"Negative\" if the correlation is negative.\n",
    "\n",
    "Output format\n",
    "\n",
    "Print \"Positive\" or \"Negative\""
   ]
  },
  {
   "cell_type": "code",
   "execution_count": 96,
   "id": "f4e97a1e",
   "metadata": {},
   "outputs": [
    {
     "name": "stdout",
     "output_type": "stream",
     "text": [
      "Positive\n"
     ]
    }
   ],
   "source": [
    "labels, categories = pd.factorize(data[\"Medal\"]) \n",
    "data[\"medal_labels\"] = labels \n",
    "if data[\"Age\"].corr(data[\"medal_labels\"]) > 0: \n",
    "    print(\"Positive\") \n",
    "else: \n",
    "    print(\"Negative\")"
   ]
  },
  {
   "cell_type": "markdown",
   "id": "8ea73f07",
   "metadata": {},
   "source": [
    "Problem statement\n",
    "From the dataset, Calculate the IQR for the Age column.\n",
    "\n",
    "Output Format\n",
    "\n",
    "IQR value"
   ]
  },
  {
   "cell_type": "code",
   "execution_count": 97,
   "id": "134eadea",
   "metadata": {},
   "outputs": [
    {
     "data": {
      "text/plain": [
       "count    261642.000000\n",
       "mean         25.556898\n",
       "std           6.393561\n",
       "min          10.000000\n",
       "25%          21.000000\n",
       "50%          24.000000\n",
       "75%          28.000000\n",
       "max          97.000000\n",
       "Name: Age, dtype: float64"
      ]
     },
     "execution_count": 97,
     "metadata": {},
     "output_type": "execute_result"
    }
   ],
   "source": [
    "data['Age'].describe()\n"
   ]
  },
  {
   "cell_type": "code",
   "execution_count": 101,
   "id": "c9184b55",
   "metadata": {},
   "outputs": [
    {
     "name": "stdout",
     "output_type": "stream",
     "text": [
      "7\n"
     ]
    }
   ],
   "source": [
    "Q1= 21\n",
    "Q3= 28\n",
    "IQR= Q3-Q1\n",
    "print(IQR)"
   ]
  },
  {
   "cell_type": "markdown",
   "id": "c3ee733e",
   "metadata": {},
   "source": [
    "# DataSet Visualization\n",
    "Till now we have gained a basic understanding of our dataset. We have the answers to\n",
    "these questions:\n",
    "1. What our dataset looks like. How many rows does it have and what is the number of columns it possesses.\n",
    "2. What is the datatype of each column?\n",
    "3. Which column is more useful for our analysis.\n",
    "4. And most importantly how to handle missing values of each column.\n",
    "Now we move towards the visual representation of our dataset to know more key\n",
    "insights into the data we have.\n",
    "We are going to answer some basic questions related to our dataset:\n",
    "● Which sport is having the most number of medals so far?\n",
    "● Which player has won the most number of Gold Medals of medals?\n",
    "● Which event is most popular in terms of the number of players?\n",
    "Many questions of this type are going to be answered with the help of\n",
    "visualization graphs."
   ]
  },
  {
   "cell_type": "markdown",
   "id": "50b7c7de",
   "metadata": {},
   "source": [
    "Problem statement\n",
    "Which sport is having the most number of medals so far?\n",
    "\n",
    "First plot the bar chart to find out the top 5 sports that have the most number of medals and then print the sport having the highest medals.\n",
    "\n",
    "Output Format\n",
    "Sport having most medals"
   ]
  },
  {
   "cell_type": "code",
   "execution_count": 104,
   "id": "e7d1f39d",
   "metadata": {},
   "outputs": [
    {
     "data": {
      "image/png": "[encoded data removed]",
      "text/plain": [
       "<Figure size 1000x500 with 1 Axes>"
      ]
     },
     "metadata": {},
     "output_type": "display_data"
    },
    {
     "name": "stdout",
     "output_type": "stream",
     "text": [
      "Athletics\n"
     ]
    }
   ],
   "source": [
    "data.groupby('Sport').count()['Medal'].sort_values(ascending = False).head().plot.bar(figsize= (10,5), edgecolor='black', facecolor='orange')\n",
    "plt.show()\n",
    "print('Athletics')"
   ]
  },
  {
   "cell_type": "markdown",
   "id": "4eddce1e",
   "metadata": {},
   "source": [
    "Problem statement\n",
    "Which Sport has the most number of Gold Medals so far?\n",
    "\n",
    "First plot the bar chart to find out the top 5 sports that have the most number Gold of medals and then print the sport having the highest number of Gold medals.\n",
    "\n",
    "Output Format\n",
    "\n",
    "Sports having the most number of gold medals"
   ]
  },
  {
   "cell_type": "code",
   "execution_count": 120,
   "id": "4db3a5a3",
   "metadata": {},
   "outputs": [
    {
     "name": "stdout",
     "output_type": "stream",
     "text": [
      "Athletics\n"
     ]
    },
    {
     "data": {
      "image/png": "[encoded data removed]",
      "text/plain": [
       "<Figure size 1000x500 with 1 Axes>"
      ]
     },
     "metadata": {},
     "output_type": "display_data"
    }
   ],
   "source": [
    "gold=data[data['Medal']=='Gold']\n",
    "\n",
    "data1=[]\n",
    "for sport in gold['Sport'].unique():\n",
    "    data1.append([sport, len(gold[gold['Sport']==sport])])\n",
    "data1=pd.DataFrame(data1, columns=['Sport', 'Gold']).sort_values(by='Gold', ascending=False).head()\n",
    "data1.plot(x='Sport', y='Gold', kind='bar', figsize=(10,5))\n",
    "print('Athletics')"
   ]
  },
  {
   "cell_type": "markdown",
   "id": "a2c9c075",
   "metadata": {},
   "source": [
    "Problem statement\n",
    "In which year did India win the first Gold Medal in the Olympics?\n",
    "\n",
    "Output Format\n",
    "\n",
    "Print Year "
   ]
  },
  {
   "cell_type": "code",
   "execution_count": 116,
   "id": "06c28797",
   "metadata": {},
   "outputs": [
    {
     "name": "stdout",
     "output_type": "stream",
     "text": [
      "1924\n"
     ]
    }
   ],
   "source": [
    "gold = data[data['Medal'] == 'Gold']\n",
    "print(gold[gold['Team'] == 'India']['Year'].min())"
   ]
  },
  {
   "cell_type": "markdown",
   "id": "41575e2d",
   "metadata": {},
   "source": [
    "Problem statement\n",
    "Which event is most popular in terms of the number of players?\n",
    "\n",
    "First plot the bar chart to find out the top 5 sports that have the most number of participants and then print the sport having the highest number of players participating.\n",
    "\n",
    "Output Format\n",
    "\n",
    "Sport in which most players participate."
   ]
  },
  {
   "cell_type": "code",
   "execution_count": 117,
   "id": "73950bf6",
   "metadata": {},
   "outputs": [
    {
     "data": {
      "image/png": "[encoded data removed]",
      "text/plain": [
       "<Figure size 1000x500 with 1 Axes>"
      ]
     },
     "metadata": {},
     "output_type": "display_data"
    },
    {
     "name": "stdout",
     "output_type": "stream",
     "text": [
      "Football Men's Football\n"
     ]
    }
   ],
   "source": [
    "data.groupby('Event').count()['Name'].sort_values(ascending = False).head().plot.bar(figsize=(10, 5))\n",
    "plt.show()\n",
    "print(\"Football Men's Football\")"
   ]
  },
  {
   "cell_type": "markdown",
   "id": "d3b3001c",
   "metadata": {},
   "source": [
    "Problem statement\n",
    "Which sport is having the most female Gold Medalists?\n",
    "\n",
    "First plot the bar chart to find out the top 5 sports that have the most female Gold Medalists and then print the sport having the most female Gold Medalists.\n",
    "\n",
    "Output Format\n",
    "\n",
    "Sports having the most female Gold Medalists"
   ]
  },
  {
   "cell_type": "code",
   "execution_count": 119,
   "id": "dbfd27f9",
   "metadata": {},
   "outputs": [
    {
     "name": "stdout",
     "output_type": "stream",
     "text": [
      "Athletics\n"
     ]
    },
    {
     "data": {
      "image/png": "[encoded data removed]",
      "text/plain": [
       "<Figure size 1000x500 with 1 Axes>"
      ]
     },
     "metadata": {},
     "output_type": "display_data"
    }
   ],
   "source": [
    "gold=data[data['Medal']=='Gold']\n",
    "gold_female= gold[gold['Sex']==\"F\"]\n",
    "data1=[]\n",
    "for sport in gold_female['Sport'].unique():\n",
    "    data1.append([sport, len(gold_female[gold_female['Sport']==sport])])\n",
    "data1=pd.DataFrame(data1, columns=['Sport', 'Gold']).sort_values(by='Gold', ascending=False).head()\n",
    "data1.plot(x='Sport', y='Gold', kind='bar', figsize=(10,5))\n",
    "print('Athletics')"
   ]
  },
  {
   "cell_type": "code",
   "execution_count": null,
   "id": "2f8ffb91",
   "metadata": {},
   "outputs": [],
   "source": []
  },
  {
   "cell_type": "code",
   "execution_count": null,
   "id": "36fa36e3",
   "metadata": {},
   "outputs": [],
   "source": []
  },
  {
   "cell_type": "code",
   "execution_count": null,
   "id": "2f480d80",
   "metadata": {},
   "outputs": [],
   "source": []
  }
 ],
 "metadata": {
  "kernelspec": {
   "display_name": "Python 3 (ipykernel)",
   "language": "python",
   "name": "python3"
  },
  "language_info": {
   "codemirror_mode": {
    "name": "ipython",
    "version": 3
   },
   "file_extension": ".py",
   "mimetype": "text/x-python",
   "name": "python",
   "nbconvert_exporter": "python",
   "pygments_lexer": "ipython3",
   "version": "3.11.0"
  }
 },
 "nbformat": 4,
 "nbformat_minor": 5
}
